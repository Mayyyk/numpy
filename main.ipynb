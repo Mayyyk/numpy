{
 "cells": [
  {
   "cell_type": "code",
   "execution_count": 30,
   "id": "bf3c5b72",
   "metadata": {},
   "outputs": [
    {
     "name": "stdout",
     "output_type": "stream",
     "text": [
      "============================================================\n",
      "SECTION 1: CREATING ARRAYS\n",
      "============================================================\n",
      "Array a: [1 2 3 4 5]\n",
      "Array b: [0. 0. 0. 0. 0.]\n",
      "Array e (linspace): [0.   0.25 0.5  0.75 1.  ]\n",
      "[[[0.76376437 0.93317493 0.31793726 0.04541725 0.44753892]\n",
      "  [0.80332645 0.74364363 0.65688566 0.80740379 0.81018912]\n",
      "  [0.65800362 0.22710019 0.48188932 0.57326919 0.41890456]\n",
      "  [0.24391678 0.71283243 0.7216442  0.23025792 0.89677375]]\n",
      "\n",
      " [[0.8104624  0.50007419 0.33936188 0.84224407 0.20655676]\n",
      "  [0.88072424 0.16664382 0.43254371 0.76379246 0.67865646]\n",
      "  [0.18204124 0.52224408 0.58208141 0.36899245 0.54693977]\n",
      "  [0.54447941 0.49705215 0.86537068 0.37461724 0.8717873 ]]]\n",
      "[[-1.08804222]\n",
      " [ 1.8258905 ]\n",
      " [-1.97606325]\n",
      " [ 1.49022632]\n",
      " [-0.52474971]]\n"
     ]
    }
   ],
   "source": [
    "\"\"\"\n",
    "NUMPY TUTORIAL - LEARN BY DOING\n",
    "Complete exercises in order. Try to solve before looking at solutions.\n",
    "Estimated time: 7-10 hours total (1-2h per day for a week)\n",
    "\n",
    "Run this in Jupyter Notebook or VS Code with Python interactive window.\n",
    "\"\"\"\n",
    "\n",
    "import numpy as np\n",
    "import time\n",
    "import math\n",
    "\n",
    "# =============================================================================\n",
    "# DAY 1-2: BASICS - ARRAYS, INDEXING, BASIC OPERATIONS\n",
    "# =============================================================================\n",
    "\n",
    "print(\"=\"*60)\n",
    "print(\"SECTION 1: CREATING ARRAYS\")\n",
    "print(\"=\"*60)\n",
    "\n",
    "# NumPy array = fast, efficient container for numerical data\n",
    "# Like Python list but: faster, less memory, more operations\n",
    "\n",
    "# Different ways to create arrays:\n",
    "a = np.array([1, 2, 3, 4, 5])  # from list\n",
    "b = np.zeros(5)  # array of zeros\n",
    "c = np.ones((3, 3))  # 3x3 array of ones\n",
    "d = np.arange(0, 10, 2)  # like range(): start, stop, step\n",
    "e = np.linspace(0, 1, 5)  # 5 numbers evenly spaced between 0 and 1\n",
    "f = np.random.rand(3, 3)  # 3x3 array of random numbers [0, 1)\n",
    "\n",
    "print(f\"Array a: {a}\")\n",
    "print(f\"Array b: {b}\")\n",
    "print(f\"Array e (linspace): {e}\")\n",
    "\n",
    "# EXERCISE 1.1: Create array of numbers from 10 to 50 with step 5\n",
    "# Expected: [10 15 20 25 30 35 40 45 50]\n",
    "# Your code here:\n",
    "ex1_1 = None\n",
    "X = np.random.rand(2,4,5)\n",
    "print(X)\n",
    "\n",
    "a = np.linspace(10,50,5).reshape(5,1)\n",
    "print(np.sin(a)*2)\n",
    "\n",
    "# Solution (don't look until you try!):\n",
    "# ex1_1 = np.arange(10, 51, 5)"
   ]
  }
 ],
 "metadata": {
  "kernelspec": {
   "display_name": "venv",
   "language": "python",
   "name": "python3"
  },
  "language_info": {
   "codemirror_mode": {
    "name": "ipython",
    "version": 3
   },
   "file_extension": ".py",
   "mimetype": "text/x-python",
   "name": "python",
   "nbconvert_exporter": "python",
   "pygments_lexer": "ipython3",
   "version": "3.13.2"
  }
 },
 "nbformat": 4,
 "nbformat_minor": 5
}
