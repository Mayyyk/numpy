{
 "cells": [
  {
   "cell_type": "code",
   "execution_count": 2,
   "id": "fc7b768f",
   "metadata": {},
   "outputs": [
    {
     "data": {
      "text/plain": [
       "'\\n# NUMPY COMPLETE COURSE - FROM ZERO TO HERO\\n## Based on official NumPy documentation + SciPy integration\\n\\n**Course Structure:**\\n- Part 1: NumPy Essentials (2-3 days)\\n- Part 2: NumPy Intermediate (2-3 days)  \\n- Part 3: NumPy Advanced (2-3 days)\\n- Part 4: Data Science Integration - Pandas, Matplotlib, SciPy (2-3 days)\\n- Part 5: Real-World Projects (2-3 days)\\n\\n**Total: ~2 weeks**\\n\\n**How to use:**\\n1. Run each cell sequentially\\n2. Read explanations\\n3. Try exercises WITHOUT looking at solutions\\n4. Solutions are in collapsed cells or comments\\n'"
      ]
     },
     "execution_count": 2,
     "metadata": {},
     "output_type": "execute_result"
    }
   ],
   "source": [
    "# NUMPY COMPLETE COURSE - FROM ZERO TO HERO\n",
    "## Based on official NumPy documentation + SciPy integration\n",
    "\n",
    "\"\"\"\n",
    "# NUMPY COMPLETE COURSE - FROM ZERO TO HERO\n",
    "## Based on official NumPy documentation + SciPy integration\n",
    "\n",
    "**Course Structure:**\n",
    "- Part 1: NumPy Essentials (2-3 days)\n",
    "- Part 2: NumPy Intermediate (2-3 days)  \n",
    "- Part 3: NumPy Advanced (2-3 days)\n",
    "- Part 4: Data Science Integration - Pandas, Matplotlib, SciPy (2-3 days)\n",
    "- Part 5: Real-World Projects (2-3 days)\n",
    "\n",
    "**Total: ~2 weeks**\n",
    "\n",
    "**How to use:**\n",
    "1. Run each cell sequentially\n",
    "2. Read explanations\n",
    "3. Try exercises WITHOUT looking at solutions\n",
    "4. Solutions are in collapsed cells or comments\n",
    "\"\"\"\n"
   ]
  },
  {
   "cell_type": "markdown",
   "id": "b437f5bf",
   "metadata": {},
   "source": [
    "# Setup and Imports\n",
    "Run this cell first to import all necessary libraries\n"
   ]
  },
  {
   "cell_type": "code",
   "execution_count": 3,
   "id": "741cc255",
   "metadata": {},
   "outputs": [
    {
     "name": "stdout",
     "output_type": "stream",
     "text": [
      "NumPy version: 2.3.3\n",
      "Setup complete! ✓\n"
     ]
    }
   ],
   "source": [
    "import numpy as np\n",
    "import time\n",
    "import warnings\n",
    "warnings.filterwarnings('ignore')\n",
    "\n",
    "print(\"NumPy version:\", np.__version__)\n",
    "print(\"Setup complete! ✓\")\n"
   ]
  },
  {
   "cell_type": "code",
   "execution_count": null,
   "id": "b4109b33",
   "metadata": {},
   "outputs": [],
   "source": [
    "---\n",
    "# PART 1: NUMPY ESSENTIALS - THE FOUNDATION\n",
    "---\n"
   ]
  },
  {
   "cell_type": "markdown",
   "id": "19542dde",
   "metadata": {},
   "source": [
    "## 1.1 Array Creation - The Building Blocks\n",
    "\n",
    "**Key Concept:** NumPy array (ndarray) = homogeneous, fixed-size, multi-dimensional\n",
    "\n",
    "**Differences from Python lists:**\n",
    "- Homogeneous (all same type) vs heterogeneous\n",
    "- Fixed size vs dynamic\n",
    "- Vectorized operations vs loops\n",
    "- Much faster and more memory efficient\n"
   ]
  },
  {
   "cell_type": "code",
   "execution_count": null,
   "id": "2c90f25f",
   "metadata": {},
   "outputs": [],
   "source": [
    "# From lists\n",
    "a = np.array([1, 2, 3, 4, 5])\n",
    "print(f\"1D array: {a}\")\n",
    "\n",
    "# 2D array\n",
    "b = np.array([[1, 2, 3],\n",
    "              [4, 5, 6]])\n",
    "print(f\"2D array:\\n{b}\")\n"
   ]
  },
  {
   "cell_type": "code",
   "execution_count": null,
   "id": "d2dd3134",
   "metadata": {},
   "outputs": [],
   "source": [
    "# Specialized creation functions\n",
    "zeros = np.zeros((3, 4))          # All zeros\n",
    "ones = np.ones((2, 3))            # All ones\n",
    "full = np.full((2, 2), 7)         # All same value\n",
    "identity = np.eye(3)              # Identity matrix\n",
    "arange = np.arange(0, 10, 2)      # Like range(): start, stop, step\n",
    "linspace = np.linspace(0, 1, 5)   # N evenly spaced numbers\n",
    "\n",
    "print(\"zeros:\\n\", zeros)\n",
    "print(\"\\nlinspace:\", linspace)\n"
   ]
  },
  {
   "cell_type": "code",
   "execution_count": null,
   "id": "543fd338",
   "metadata": {},
   "outputs": [],
   "source": [
    "# Random arrays - MODERN WAY (NumPy 1.17+)\n",
    "rng = np.random.default_rng(42)   # Seed for reproducibility\n",
    "\n",
    "random_uniform = rng.random((2, 3))           # Uniform [0, 1)\n",
    "random_normal = rng.standard_normal((2, 3))   # Normal (mean=0, std=1)\n",
    "random_int = rng.integers(0, 10, size=(3, 3)) # Random integers\n",
    "\n",
    "print(\"Random uniform:\\n\", random_uniform)\n",
    "print(\"\\nRandom normal:\\n\", random_normal)\n"
   ]
  },
  {
   "cell_type": "markdown",
   "id": "f811232e",
   "metadata": {},
   "source": [
    "### EXERCISES 1.1 - Array Creation\n",
    "Try to solve these without looking at solutions!\n"
   ]
  },
  {
   "cell_type": "code",
   "execution_count": null,
   "id": "669ab2b7",
   "metadata": {},
   "outputs": [],
   "source": [
    "# Exercise 1.1.1: Create array of even numbers from 0 to 20 (inclusive)\n",
    "ex1_1_1 = None\n",
    "# Your code here\n",
    "\n",
    "# Exercise 1.1.2: Create 5x5 array with values 1-25 (hint: arange + reshape)\n",
    "ex1_1_2 = None\n",
    "# Your code here\n",
    "\n",
    "# Exercise 1.1.3: Create array of 10 numbers evenly spaced between 0 and π\n",
    "ex1_1_3 = None\n",
    "# Your code here\n",
    "\n",
    "# Exercise 1.1.4: Create 3x3 array with random integers between 1 and 100\n",
    "ex1_1_4 = None\n",
    "# Your code here\n",
    "\n",
    "# Exercise 1.1.5: Create checkerboard pattern (8x8, alternating 0 and 1)\n",
    "ex1_1_5 = None\n",
    "# Your code here\n"
   ]
  },
  {
   "cell_type": "code",
   "execution_count": null,
   "id": "06ecd788",
   "metadata": {},
   "outputs": [],
   "source": [
    "<details>\n",
    "<summary>Click to see solutions</summary>\n",
    "\n",
    "```python\n",
    "# Solution 1.1.1\n",
    "ex1_1_1 = np.arange(0, 21, 2)\n",
    "\n",
    "# Solution 1.1.2\n",
    "ex1_1_2 = np.arange(1, 26).reshape(5, 5)\n",
    "\n",
    "# Solution 1.1.3\n",
    "ex1_1_3 = np.linspace(0, np.pi, 10)\n",
    "\n",
    "# Solution 1.1.4\n",
    "rng = np.random.default_rng()\n",
    "ex1_1_4 = rng.integers(1, 101, size=(3, 3))\n",
    "\n",
    "# Solution 1.1.5\n",
    "ex1_1_5 = np.fromfunction(lambda i, j: (i + j) % 2, (8, 8), dtype=int)\n",
    "```\n",
    "</details>\n"
   ]
  },
  {
   "cell_type": "markdown",
   "id": "5f8eb799",
   "metadata": {},
   "source": [
    "## 1.2 Array Attributes - Understanding Your Data\n",
    "\n",
    "**Key Concept:** Every array has metadata describing its structure\n"
   ]
  },
  {
   "cell_type": "code",
   "execution_count": null,
   "id": "6d5b09d7",
   "metadata": {},
   "outputs": [],
   "source": [
    "arr = np.array([[1, 2, 3, 4],\n",
    "                [5, 6, 7, 8]])\n",
    "\n",
    "print(f\"Array:\\n{arr}\\n\")\n",
    "print(f\"Shape: {arr.shape}\")        # Dimensions (rows, cols)\n",
    "print(f\"Size: {arr.size}\")          # Total elements\n",
    "print(f\"Ndim: {arr.ndim}\")          # Number of dimensions\n",
    "print(f\"Dtype: {arr.dtype}\")        # Data type\n",
    "print(f\"Itemsize: {arr.itemsize}\")  # Bytes per element\n",
    "print(f\"Nbytes: {arr.nbytes}\")      # Total bytes\n"
   ]
  },
  {
   "cell_type": "code",
   "execution_count": null,
   "id": "6727560c",
   "metadata": {},
   "outputs": [],
   "source": [
    "# Data types\n",
    "int_arr = np.array([1, 2, 3], dtype=np.int32)      # 32-bit integer\n",
    "float_arr = np.array([1.0, 2.0], dtype=np.float64) # 64-bit float\n",
    "bool_arr = np.array([True, False, True])           # Boolean\n",
    "\n",
    "print(f\"int32 uses {int_arr.itemsize} bytes per element\")\n",
    "print(f\"float64 uses {float_arr.itemsize} bytes per element\")\n",
    "\n",
    "# Type conversion\n",
    "arr_float = np.array([1.7, 2.3, 3.9])\n",
    "arr_int = arr_float.astype(np.int32)  # Truncates\n",
    "print(f\"\\nOriginal (float): {arr_float}\")\n",
    "print(f\"Converted (int): {arr_int}\")\n"
   ]
  },
  {
   "cell_type": "markdown",
   "id": "aac450ca",
   "metadata": {},
   "source": [
    "### EXERCISES 1.2 - Array Attributes\n"
   ]
  },
  {
   "cell_type": "code",
   "execution_count": null,
   "id": "7fe11b1d",
   "metadata": {},
   "outputs": [],
   "source": [
    "# Exercise 1.2.1: Create 3D array of shape (2, 4, 3) and print all attributes\n",
    "ex1_2_1 = None\n",
    "# Your code here\n",
    "\n",
    "# Exercise 1.2.2: Create array with smallest integer type that can hold 0-100\n",
    "ex1_2_2 = None\n",
    "# Your code here\n",
    "\n",
    "# Exercise 1.2.3: Calculate memory saved converting 1M float64 to float32\n",
    "ex1_2_3_saved_mb = None\n",
    "# Your code here\n"
   ]
  },
  {
   "cell_type": "code",
   "execution_count": null,
   "id": "5a84b3e0",
   "metadata": {},
   "outputs": [],
   "source": [
    "<details>\n",
    "<summary>Solutions 1.2</summary>\n",
    "\n",
    "```python\n",
    "# Solution 1.2.1\n",
    "ex1_2_1 = np.random.rand(2, 4, 3)\n",
    "print(f\"Shape: {ex1_2_1.shape}, Ndim: {ex1_2_1.ndim}\")\n",
    "print(f\"Dtype: {ex1_2_1.dtype}, Nbytes: {ex1_2_1.nbytes}\")\n",
    "\n",
    "# Solution 1.2.2\n",
    "ex1_2_2 = np.arange(101, dtype=np.uint8)  # uint8 = 0 to 255\n",
    "\n",
    "# Solution 1.2.3\n",
    "n = 1_000_000\n",
    "original = n * 8  # float64\n",
    "converted = n * 4  # float32\n",
    "ex1_2_3_saved_mb = (original - converted) / 1024 / 1024\n",
    "print(f\"Saved: {ex1_2_3_saved_mb:.2f} MB\")\n",
    "```\n",
    "</details>\n"
   ]
  },
  {
   "cell_type": "markdown",
   "id": "b54f8fe4",
   "metadata": {},
   "source": [
    "## 1.3 Indexing and Slicing - Accessing Your Data\n",
    "\n",
    "**Key patterns:**\n",
    "- `arr[i]` - single element or row\n",
    "- `arr[i, j]` - element at row i, column j\n",
    "- `arr[start:stop:step]` - slicing\n",
    "- `arr[:, j]` - entire column\n",
    "- `arr[i, :]` - entire row\n"
   ]
  },
  {
   "cell_type": "code",
   "execution_count": null,
   "id": "b94d5e92",
   "metadata": {},
   "outputs": [],
   "source": [
    "# 1D indexing\n",
    "arr = np.array([10, 20, 30, 40, 50])\n",
    "print(f\"Array: {arr}\")\n",
    "print(f\"First: {arr[0]}\")\n",
    "print(f\"Last: {arr[-1]}\")\n",
    "print(f\"Middle three: {arr[1:4]}\")\n",
    "print(f\"Every other: {arr[::2]}\")\n",
    "print(f\"Reversed: {arr[::-1]}\")\n"
   ]
  },
  {
   "cell_type": "code",
   "execution_count": null,
   "id": "be74af3d",
   "metadata": {},
   "outputs": [],
   "source": [
    "# 2D indexing\n",
    "arr2d = np.array([[1, 2, 3, 4],\n",
    "                  [5, 6, 7, 8],\n",
    "                  [9, 10, 11, 12]])\n",
    "\n",
    "print(f\"2D Array:\\n{arr2d}\\n\")\n",
    "print(f\"Element [1,2]: {arr2d[1, 2]}\")\n",
    "print(f\"First row: {arr2d[0, :]}\")\n",
    "print(f\"Second column: {arr2d[:, 1]}\")\n",
    "print(f\"Top-left 2x2:\\n{arr2d[:2, :2]}\")\n"
   ]
  },
  {
   "cell_type": "code",
   "execution_count": null,
   "id": "d1b960e5",
   "metadata": {},
   "outputs": [],
   "source": [
    "# Boolean indexing - POWERFUL!\n",
    "arr = np.array([1, 5, 3, 8, 2, 9, 4])\n",
    "mask = arr > 4\n",
    "print(f\"Array: {arr}\")\n",
    "print(f\"Mask (>4): {mask}\")\n",
    "print(f\"Elements >4: {arr[mask]}\")\n",
    "\n",
    "# Fancy indexing\n",
    "arr = np.array([10, 20, 30, 40, 50])\n",
    "indices = np.array([0, 2, 4])\n",
    "print(f\"\\nElements at [0,2,4]: {arr[indices]}\")\n"
   ]
  },
  {
   "cell_type": "code",
   "execution_count": null,
   "id": "c6e1057a",
   "metadata": {},
   "outputs": [],
   "source": [
    "# FLAT indexing - treats array as 1D\n",
    "arr2d = np.array([[1, 2, 3],\n",
    "                  [4, 5, 6]])\n",
    "print(f\"2D array:\\n{arr2d}\")\n",
    "print(f\"Flat index 4: {arr2d.flat[4]}\")  # Element 5\n",
    "\n",
    "arr2d.flat[::2] = 0  # Every other element\n",
    "print(f\"After flat[::2] = 0:\\n{arr2d}\")\n"
   ]
  },
  {
   "cell_type": "markdown",
   "id": "3c446d10",
   "metadata": {},
   "source": [
    "### EXERCISES 1.3 - Indexing and Slicing\n"
   ]
  },
  {
   "cell_type": "code",
   "execution_count": null,
   "id": "f36ce94a",
   "metadata": {},
   "outputs": [],
   "source": [
    "# Exercise 1.3.1: Extract [30, 60, 90] from array\n",
    "arr = np.array([10, 20, 30, 40, 50, 60, 70, 80, 90, 100])\n",
    "ex1_3_1 = None\n",
    "# Your code here\n",
    "\n",
    "# Exercise 1.3.2: Extract middle 2x2 subarray\n",
    "arr = np.array([[1, 2, 3, 4],\n",
    "                [5, 6, 7, 8],\n",
    "                [9, 10, 11, 12],\n",
    "                [13, 14, 15, 16]])\n",
    "ex1_3_2 = None\n",
    "# Expected: [[6, 7], [10, 11]]\n",
    "\n",
    "# Exercise 1.3.3: Get all even numbers\n",
    "arr = np.array([15, 22, 7, 34, 9, 12, 45, 18])\n",
    "ex1_3_3 = None\n",
    "\n",
    "# Exercise 1.3.4: Get diagonal elements (where row == col)\n",
    "arr = np.array([[1, 2, 3],\n",
    "                [4, 5, 6],\n",
    "                [7, 8, 9]])\n",
    "ex1_3_4 = None\n",
    "# Expected: [1, 5, 9]\n",
    "\n",
    "# Exercise 1.3.5: Replace all negative values with 0\n",
    "arr = np.array([-1, 5, -3, 8, -2, 7])\n",
    "ex1_3_5 = None\n"
   ]
  },
  {
   "cell_type": "code",
   "execution_count": null,
   "id": "589e66d1",
   "metadata": {},
   "outputs": [],
   "source": [
    "<details>\n",
    "<summary>Solutions 1.3</summary>\n",
    "\n",
    "```python\n",
    "# Solution 1.3.1\n",
    "ex1_3_1 = arr[2::3]  # Start at 2, step 3\n",
    "\n",
    "# Solution 1.3.2\n",
    "ex1_3_2 = arr[1:3, 1:3]\n",
    "\n",
    "# Solution 1.3.3\n",
    "ex1_3_3 = arr[arr % 2 == 0]\n",
    "\n",
    "# Solution 1.3.4\n",
    "ex1_3_4 = np.diag(arr)\n",
    "\n",
    "# Solution 1.3.5\n",
    "ex1_3_5 = arr.copy()\n",
    "ex1_3_5[ex1_3_5 < 0] = 0\n",
    "```\n",
    "</details>\n"
   ]
  },
  {
   "cell_type": "markdown",
   "id": "c0712769",
   "metadata": {},
   "source": [
    "## 1.4 Array Operations - Computing with Arrays\n",
    "\n",
    "**Key Concept:** Vectorized operations = element-wise operations without loops\n",
    "\n",
    "**Categories:**\n",
    "1. Arithmetic: +, -, *, /, **, %\n",
    "2. Comparison: <, >, ==, !=\n",
    "3. Logical: &, |, ~\n",
    "4. Universal functions: np.sin, np.exp, np.sqrt\n"
   ]
  },
  {
   "cell_type": "code",
   "execution_count": null,
   "id": "25dc9cd3",
   "metadata": {},
   "outputs": [],
   "source": [
    "# Arithmetic (element-wise!)\n",
    "a = np.array([1, 2, 3, 4])\n",
    "b = np.array([10, 20, 30, 40])\n",
    "\n",
    "print(f\"a = {a}\")\n",
    "print(f\"b = {b}\")\n",
    "print(f\"a + b = {a + b}\")\n",
    "print(f\"a * b = {a * b}\")  # NOT dot product!\n",
    "print(f\"a ** 2 = {a ** 2}\")\n",
    "print(f\"b / 10 = {b / 10}\")\n"
   ]
  },
  {
   "cell_type": "code",
   "execution_count": null,
   "id": "d9e694e9",
   "metadata": {},
   "outputs": [],
   "source": [
    "# Comparison and logical operations\n",
    "print(f\"a > 2: {a > 2}\")\n",
    "print(f\"(a > 1) & (a < 4): {(a > 1) & (a < 4)}\")  # AND\n",
    "print(f\"(a < 2) | (a > 3): {(a < 2) | (a > 3)}\")  # OR\n"
   ]
  },
  {
   "cell_type": "code",
   "execution_count": null,
   "id": "3ae7b508",
   "metadata": {},
   "outputs": [],
   "source": [
    "# Universal functions (ufuncs)\n",
    "arr = np.array([0, np.pi/2, np.pi])\n",
    "print(f\"arr = {arr}\")\n",
    "print(f\"np.sin(arr) = {np.sin(arr)}\")\n",
    "print(f\"np.exp(arr) = {np.exp(arr)}\")\n",
    "\n",
    "arr = np.array([1, 4, 9, 16])\n",
    "print(f\"\\narr = {arr}\")\n",
    "print(f\"np.sqrt(arr) = {np.sqrt(arr)}\")\n"
   ]
  },
  {
   "cell_type": "code",
   "execution_count": null,
   "id": "4929c701",
   "metadata": {},
   "outputs": [],
   "source": [
    "# Aggregations\n",
    "arr = np.array([1, 2, 3, 4, 5])\n",
    "print(f\"Array: {arr}\")\n",
    "print(f\"Sum: {arr.sum()}\")\n",
    "print(f\"Mean: {arr.mean()}\")\n",
    "print(f\"Max: {arr.max()}\")\n",
    "print(f\"Std: {arr.std()}\")\n"
   ]
  },
  {
   "cell_type": "code",
   "execution_count": null,
   "id": "a1ae47a6",
   "metadata": {},
   "outputs": [],
   "source": [
    "# Axis-wise operations - IMPORTANT!\n",
    "arr2d = np.array([[1, 2, 3],\n",
    "                  [4, 5, 6]])\n",
    "\n",
    "print(f\"Array:\\n{arr2d}\\n\")\n",
    "print(f\"Sum all: {arr2d.sum()}\")\n",
    "print(f\"Sum axis=0 (columns): {arr2d.sum(axis=0)}\")\n",
    "print(f\"Sum axis=1 (rows): {arr2d.sum(axis=1)}\")\n",
    "print(f\"Mean per column: {arr2d.mean(axis=0)}\")\n",
    "print(f\"Max per row: {arr2d.max(axis=1)}\")\n"
   ]
  },
  {
   "cell_type": "markdown",
   "id": "4438c983",
   "metadata": {},
   "source": [
    "### EXERCISES 1.4 - Array Operations\n"
   ]
  },
  {
   "cell_type": "code",
   "execution_count": null,
   "id": "1584dd05",
   "metadata": {},
   "outputs": [],
   "source": [
    "# Exercise 1.4.1: Convert Celsius to Fahrenheit (F = C * 9/5 + 32)\n",
    "celsius = np.array([0, 10, 20, 30, 40])\n",
    "fahrenheit = None\n",
    "\n",
    "# Exercise 1.4.2: Find elements divisible by both 2 AND 3\n",
    "arr = np.array([6, 9, 12, 15, 18, 21, 24, 27, 30])\n",
    "ex1_4_2 = None\n",
    "\n",
    "# Exercise 1.4.3: Normalize array (mean=0, std=1)\n",
    "arr = np.array([10, 20, 30, 40, 50])\n",
    "ex1_4_3 = None\n",
    "\n",
    "# Exercise 1.4.4: Calculate distances from origin for 2D points\n",
    "points = np.array([[0, 0], [3, 4], [1, 1], [5, 12]])\n",
    "distances = None\n",
    "# Hint: distance = sqrt(x^2 + y^2)\n",
    "\n",
    "# Exercise 1.4.5: Find column with highest mean\n",
    "arr = np.array([[1, 5, 3],\n",
    "                [2, 8, 4],\n",
    "                [3, 6, 5]])\n",
    "ex1_4_5 = None  # Should return column index\n"
   ]
  },
  {
   "cell_type": "code",
   "execution_count": null,
   "id": "d01ecfd9",
   "metadata": {},
   "outputs": [],
   "source": [
    "<details>\n",
    "<summary>Solutions 1.4</summary>\n",
    "\n",
    "```python\n",
    "# Solution 1.4.1\n",
    "fahrenheit = celsius * 9/5 + 32\n",
    "\n",
    "# Solution 1.4.2\n",
    "ex1_4_2 = arr[(arr % 2 == 0) & (arr % 3 == 0)]\n",
    "\n",
    "# Solution 1.4.3\n",
    "ex1_4_3 = (arr - arr.mean()) / arr.std()\n",
    "\n",
    "# Solution 1.4.4\n",
    "distances = np.sqrt((points ** 2).sum(axis=1))\n",
    "\n",
    "# Solution 1.4.5\n",
    "ex1_4_5 = arr.mean(axis=0).argmax()\n",
    "```\n",
    "</details>\n"
   ]
  },
  {
   "cell_type": "code",
   "execution_count": null,
   "id": "d0cf44d3",
   "metadata": {},
   "outputs": [],
   "source": [
    "---\n",
    "# PART 2: NUMPY INTERMEDIATE - POWER FEATURES\n",
    "---\n"
   ]
  },
  {
   "cell_type": "markdown",
   "id": "7f89e4c8",
   "metadata": {},
   "source": [
    "## 2.1 Broadcasting - Automatic Array Expansion\n",
    "\n",
    "**Key Concept:** Broadcasting = automatic expansion of smaller arrays\n",
    "\n",
    "**Rules:**\n",
    "1. If different ndim, prepend 1s to smaller shape\n",
    "2. Arrays compatible if dimensions equal OR one is 1\n",
    "3. Broadcast if compatible in all dimensions\n",
    "\n",
    "**Examples:**\n",
    "- (3, 4) + (3, 4) → OK\n",
    "- (3, 4) + (1, 4) → OK\n",
    "- (3, 4) + (4,) → OK\n",
    "- (3, 4) + (3, 5) → ERROR\n"
   ]
  },
  {
   "cell_type": "code",
   "execution_count": null,
   "id": "623d0609",
   "metadata": {},
   "outputs": [],
   "source": [
    "# Example 1: Scalar + Array\n",
    "arr = np.array([1, 2, 3])\n",
    "result = arr + 10  # 10 broadcasts to [10, 10, 10]\n",
    "print(f\"[1,2,3] + 10 = {result}\")\n"
   ]
  },
  {
   "cell_type": "code",
   "execution_count": null,
   "id": "5f5a4da0",
   "metadata": {},
   "outputs": [],
   "source": [
    "# Example 2: 1D + 2D\n",
    "matrix = np.array([[1, 2, 3],\n",
    "                   [4, 5, 6]])\n",
    "row = np.array([10, 20, 30])\n",
    "result = matrix + row  # row broadcast to each row\n",
    "print(f\"Matrix:\\n{matrix}\")\n",
    "print(f\"+ row {row}\")\n",
    "print(f\"Result:\\n{result}\")\n"
   ]
  },
  {
   "cell_type": "code",
   "execution_count": null,
   "id": "1e4d4b1a",
   "metadata": {},
   "outputs": [],
   "source": [
    "# Example 3: Column + Row = Matrix\n",
    "col = np.array([[1], [2], [3]])  # (3, 1)\n",
    "row = np.array([10, 20, 30])     # (3,) → (1, 3)\n",
    "result = col + row               # Broadcasts to (3, 3)\n",
    "print(f\"Column:\\n{col}\")\n",
    "print(f\"+ Row: {row}\")\n",
    "print(f\"= Matrix:\\n{result}\")\n"
   ]
  },
  {
   "cell_type": "code",
   "execution_count": null,
   "id": "37a21b6f",
   "metadata": {},
   "outputs": [],
   "source": [
    "# Practical: Normalize each column\n",
    "data = np.array([[1, 4, 7],\n",
    "                 [2, 5, 8],\n",
    "                 [3, 6, 9]], dtype=float)\n",
    "\n",
    "col_means = data.mean(axis=0)  # (3,)\n",
    "normalized = data - col_means   # Broadcasting!\n",
    "\n",
    "print(f\"Original:\\n{data}\")\n",
    "print(f\"Column means: {col_means}\")\n",
    "print(f\"Normalized:\\n{normalized}\")\n"
   ]
  },
  {
   "cell_type": "markdown",
   "id": "afe476a2",
   "metadata": {},
   "source": [
    "### EXERCISES 2.1 - Broadcasting\n"
   ]
  },
  {
   "cell_type": "code",
   "execution_count": null,
   "id": "053b02dc",
   "metadata": {},
   "outputs": [],
   "source": [
    "# Exercise 2.1.1: Add [1, 2, 3] to each row of 4x3 matrix of ones\n",
    "ex2_1_1 = None\n",
    "\n",
    "# Exercise 2.1.2: Multiply each column by [1, 2, 3] for 3x3 matrix\n",
    "ex2_1_2 = None\n",
    "\n",
    "# Exercise 2.1.3: Create 5x5 multiplication table using broadcasting\n",
    "ex2_1_3 = None\n",
    "# [[1,2,3,4,5], [2,4,6,8,10], ..., [5,10,15,20,25]]\n",
    "\n",
    "# Exercise 2.1.4: Normalize each row (subtract row mean)\n",
    "arr = np.array([[1, 2, 3, 4],\n",
    "                [5, 6, 7, 8],\n",
    "                [9, 10, 11, 12]], dtype=float)\n",
    "ex2_1_4 = None\n",
    "\n",
    "# Exercise 2.1.5: Distance matrix for 1D points [0, 1, 3, 6]\n",
    "points = np.array([0, 1, 3, 6])\n",
    "ex2_1_5 = None\n"
   ]
  },
  {
   "cell_type": "code",
   "execution_count": null,
   "id": "9917d23a",
   "metadata": {},
   "outputs": [],
   "source": [
    "<details>\n",
    "<summary>Solutions 2.1</summary>\n",
    "\n",
    "```python\n",
    "# Solution 2.1.1\n",
    "matrix = np.ones((4, 3))\n",
    "row = np.array([1, 2, 3])\n",
    "ex2_1_1 = matrix + row\n",
    "\n",
    "# Solution 2.1.2\n",
    "matrix = np.ones((3, 3))\n",
    "col = np.array([[1], [2], [3]])\n",
    "ex2_1_2 = matrix * col\n",
    "\n",
    "# Solution 2.1.3\n",
    "row = np.arange(1, 6)\n",
    "col = np.arange(1, 6).reshape(-1, 1)\n",
    "ex2_1_3 = row * col\n",
    "\n",
    "# Solution 2.1.4\n",
    "row_means = arr.mean(axis=1, keepdims=True)\n",
    "ex2_1_4 = arr - row_means\n",
    "\n",
    "# Solution 2.1.5\n",
    "ex2_1_5 = np.abs(points[:, np.newaxis] - points)\n",
    "```\n",
    "</details>\n"
   ]
  },
  {
   "cell_type": "markdown",
   "id": "7c1b3333",
   "metadata": {},
   "source": [
    "## 2.2 Reshaping and Transposing\n",
    "\n",
    "**Key operations:**\n",
    "- `reshape`: change dimensions\n",
    "- `flatten/ravel`: to 1D\n",
    "- `transpose/.T`: swap axes\n",
    "- `squeeze/expand_dims`: remove/add dimensions\n"
   ]
  },
  {
   "cell_type": "code",
   "execution_count": null,
   "id": "091d0579",
   "metadata": {},
   "outputs": [],
   "source": [
    "# Reshape\n",
    "arr = np.arange(12)\n",
    "print(f\"Original (12,): {arr}\")\n",
    "\n",
    "reshaped = arr.reshape(3, 4)\n",
    "print(f\"\\nReshaped (3, 4):\\n{reshaped}\")\n",
    "\n",
    "reshaped = arr.reshape(2, 3, 2)\n",
    "print(f\"\\nReshaped (2, 3, 2):\\n{reshaped}\")\n"
   ]
  },
  {
   "cell_type": "code",
   "execution_count": null,
   "id": "dff55d25",
   "metadata": {},
   "outputs": [],
   "source": [
    "# -1 means \"figure it out\"\n",
    "arr = np.arange(24)\n",
    "reshaped = arr.reshape(4, -1)  # -1 becomes 6\n",
    "print(f\"Reshape (4, -1):\\n{reshaped}\")\n"
   ]
  },
  {
   "cell_type": "code",
   "execution_count": null,
   "id": "94a2e287",
   "metadata": {},
   "outputs": [],
   "source": [
    "# Flatten vs ravel\n",
    "arr2d = np.array([[1, 2, 3], [4, 5, 6]])\n",
    "flat = arr2d.flatten()  # Always returns copy\n",
    "ravel = arr2d.ravel()   # Returns view if possible\n",
    "\n",
    "print(f\"Original:\\n{arr2d}\")\n",
    "print(f\"Flattened: {flat}\")\n",
    "print(f\"Raveled: {ravel}\")\n"
   ]
  },
  {
   "cell_type": "code",
   "execution_count": null,
   "id": "6da7412c",
   "metadata": {},
   "outputs": [],
   "source": [
    "# Transpose\n",
    "arr = np.array([[1, 2, 3],\n",
    "                [4, 5, 6]])\n",
    "print(f\"Original (2, 3):\\n{arr}\")\n",
    "print(f\"Transposed (3, 2):\\n{arr.T}\")\n"
   ]
  },
  {
   "cell_type": "code",
   "execution_count": null,
   "id": "e42323ab",
   "metadata": {},
   "outputs": [],
   "source": [
    "# Expand/squeeze dimensions\n",
    "arr = np.array([1, 2, 3])\n",
    "print(f\"Original: {arr.shape}\")\n",
    "\n",
    "expanded = np.expand_dims(arr, axis=0)\n",
    "print(f\"Expanded axis=0: {expanded.shape}\")  # (1, 3)\n",
    "\n",
    "expanded = np.expand_dims(arr, axis=1)\n",
    "print(f\"Expanded axis=1: {expanded.shape}\")  # (3, 1)\n"
   ]
  },
  {
   "cell_type": "markdown",
   "id": "d38d8520",
   "metadata": {},
   "source": [
    "### EXERCISES 2.2 - Reshaping\n"
   ]
  },
  {
   "cell_type": "code",
   "execution_count": null,
   "id": "887810ba",
   "metadata": {},
   "outputs": [],
   "source": [
    "# Exercise 2.2.1: Create 1-16, reshape to (4,4), then (2,8)\n",
    "ex2_2_1a = None\n",
    "ex2_2_1b = None\n",
    "\n",
    "# Exercise 2.2.2: Flatten 3D to 1D, reshape to (6, -1)\n",
    "arr3d = np.random.rand(2, 3, 4)\n",
    "ex2_2_2 = None\n",
    "\n",
    "# Exercise 2.2.3: Swap first and last dimensions of (2,3,4,5) array\n",
    "arr = np.random.rand(2, 3, 4, 5)\n",
    "ex2_2_3 = None  # Should be (5,3,4,2)\n",
    "\n",
    "# Exercise 2.2.4: Create column vector from [1,2,3,4,5]\n",
    "arr = np.array([1, 2, 3, 4, 5])\n",
    "ex2_2_4 = None  # Shape (5, 1)\n"
   ]
  },
  {
   "cell_type": "code",
   "execution_count": null,
   "id": "7d5526b4",
   "metadata": {},
   "outputs": [],
   "source": [
    "<details>\n",
    "<summary>Solutions 2.2</summary>\n",
    "\n",
    "```python\n",
    "# Solution 2.2.1\n",
    "ex2_2_1a = np.arange(1, 17).reshape(4, 4)\n",
    "ex2_2_1b = np.arange(1, 17).reshape(2, 8)\n",
    "\n",
    "# Solution 2.2.2\n",
    "flat = arr3d.flatten()\n",
    "ex2_2_2 = flat.reshape(6, -1)\n",
    "\n",
    "# Solution 2.2.3\n",
    "ex2_2_3 = arr.transpose(3, 1, 2, 0)\n",
    "\n",
    "# Solution 2.2.4\n",
    "ex2_2_4 = arr.reshape(-1, 1)\n",
    "```\n",
    "</details>\n"
   ]
  },
  {
   "cell_type": "markdown",
   "id": "ee8934ba",
   "metadata": {},
   "source": [
    "## 2.3 Stacking and Splitting\n",
    "\n",
    "**Stacking:**\n",
    "- `np.vstack`: vertical (rows)\n",
    "- `np.hstack`: horizontal (columns)\n",
    "- `np.concatenate`: general\n",
    "- `np.stack`: create new axis\n",
    "\n",
    "**Splitting:**\n",
    "- `np.vsplit/hsplit/split`\n"
   ]
  },
  {
   "cell_type": "code",
   "execution_count": null,
   "id": "6e62a464",
   "metadata": {},
   "outputs": [],
   "source": [
    "# Stacking\n",
    "a = np.array([[1, 2, 3]])\n",
    "b = np.array([[4, 5, 6]])\n",
    "\n",
    "vstacked = np.vstack([a, b])\n",
    "print(\"Vertical stack:\\n\", vstacked)\n",
    "\n",
    "hstacked = np.hstack([a.T, b.T])\n",
    "print(\"\\nHorizontal stack:\\n\", hstacked)\n"
   ]
  },
  {
   "cell_type": "code",
   "execution_count": null,
   "id": "9e0e057e",
   "metadata": {},
   "outputs": [],
   "source": [
    "# Concatenate\n",
    "a = np.array([[1, 2], [3, 4]])\n",
    "b = np.array([[5, 6], [7, 8]])\n",
    "\n",
    "concat_v = np.concatenate([a, b], axis=0)\n",
    "concat_h = np.concatenate([a, b], axis=1)\n",
    "\n",
    "print(\"Concat axis=0:\\n\", concat_v)\n",
    "print(\"\\nConcat axis=1:\\n\", concat_h)\n"
   ]
  },
  {
   "cell_type": "code",
   "execution_count": null,
   "id": "ec211d02",
   "metadata": {},
   "outputs": [],
   "source": [
    "# Splitting\n",
    "arr = np.array([[1, 2, 3, 4, 5, 6],\n",
    "                [7, 8, 9, 10, 11, 12]])\n",
    "\n",
    "split_h = np.hsplit(arr, 3)  # 3 equal parts\n",
    "print(\"Horizontal split into 3:\")\n",
    "for i, s in enumerate(split_h):\n",
    "    print(f\"Part {i}:\\n{s}\\n\")\n"
   ]
  },
  {
   "cell_type": "markdown",
   "id": "bbece857",
   "metadata": {},
   "source": [
    "### EXERCISES 2.3 - Stacking\n"
   ]
  },
  {
   "cell_type": "code",
   "execution_count": null,
   "id": "8e2d6764",
   "metadata": {},
   "outputs": [],
   "source": [
    "# Exercise 2.3.1: Stack [1,2], [3,4], [5,6] vertically\n",
    "a = np.array([1, 2])\n",
    "b = np.array([3, 4])\n",
    "c = np.array([5, 6])\n",
    "ex2_3_1 = None\n",
    "\n",
    "# Exercise 2.3.2: Create 4x4 by stacking 4 2x2 matrices\n",
    "# TL:[[1,2],[3,4]], TR:[[5,6],[7,8]]\n",
    "# BL:[[9,10],[11,12]], BR:[[13,14],[15,16]]\n",
    "ex2_3_2 = None\n"
   ]
  },
  {
   "cell_type": "markdown",
   "id": "73713319",
   "metadata": {},
   "source": [
    "## 2.4 Copying and Views\n",
    "\n",
    "**Key difference:**\n",
    "- View: Same data, different object\n",
    "- Copy: Different data, different object\n",
    "\n",
    "**Slicing creates views!**\n"
   ]
  },
  {
   "cell_type": "code",
   "execution_count": null,
   "id": "c9a8e52a",
   "metadata": {},
   "outputs": [],
   "source": [
    "# Views from slicing\n",
    "arr = np.array([1, 2, 3, 4, 5])\n",
    "view = arr[1:4]  # View!\n",
    "\n",
    "print(f\"Original: {arr}\")\n",
    "print(f\"View: {view}\")\n",
    "\n",
    "view[0] = 999  # Modifies original!\n",
    "print(f\"\\nAfter view[0] = 999:\")\n",
    "print(f\"Original: {arr}\")  # Changed!\n"
   ]
  },
  {
   "cell_type": "code",
   "execution_count": null,
   "id": "ff858981",
   "metadata": {},
   "outputs": [],
   "source": [
    "# Explicit copy\n",
    "arr = np.array([1, 2, 3, 4, 5])\n",
    "copy = arr[1:4].copy()  # Copy\n",
    "\n",
    "copy[0] = 999\n",
    "print(f\"Original: {arr}\")  # Unchanged\n",
    "print(f\"Copy: {copy}\")\n"
   ]
  },
  {
   "cell_type": "code",
   "execution_count": null,
   "id": "d3349081",
   "metadata": {},
   "outputs": [],
   "source": [
    "# Check if view or copy\n",
    "arr = np.array([1, 2, 3])\n",
    "view = arr[:]\n",
    "copy = arr.copy()\n",
    "\n",
    "print(f\"view.base is arr: {view.base is arr}\")  # True\n",
    "print(f\"copy.base is arr: {copy.base is arr}\")  # False\n"
   ]
  },
  {
   "cell_type": "code",
   "execution_count": null,
   "id": "58920145",
   "metadata": {},
   "outputs": [],
   "source": [
    "---\n",
    "# PART 3: NUMPY ADVANCED - MASTERY\n",
    "---\n"
   ]
  },
  {
   "cell_type": "markdown",
   "id": "7097431b",
   "metadata": {},
   "source": [
    "## 3.1 Advanced Indexing\n",
    "\n",
    "**Techniques:**\n",
    "1. Integer array indexing\n",
    "2. Boolean indexing\n",
    "3. `np.where` conditional selection\n",
    "4. `argmax/argmin` for finding indices\n"
   ]
  },
  {
   "cell_type": "code",
   "execution_count": null,
   "id": "51c59596",
   "metadata": {},
   "outputs": [],
   "source": [
    "# Integer array indexing\n",
    "arr = np.array([10, 20, 30, 40, 50])\n",
    "indices = np.array([0, 2, 4])\n",
    "selected = arr[indices]\n",
    "print(f\"Array: {arr}\")\n",
    "print(f\"Selected [0,2,4]: {selected}\")\n"
   ]
  },
  {
   "cell_type": "code",
   "execution_count": null,
   "id": "1d2f93df",
   "metadata": {},
   "outputs": [],
   "source": [
    "# 2D integer indexing - get diagonal\n",
    "arr2d = np.array([[1, 2, 3],\n",
    "                  [4, 5, 6],\n",
    "                  [7, 8, 9]])\n",
    "rows = np.array([0, 1, 2])\n",
    "cols = np.array([0, 1, 2])\n",
    "diagonal = arr2d[rows, cols]\n",
    "print(f\"Array:\\n{arr2d}\")\n",
    "print(f\"Diagonal: {diagonal}\")\n"
   ]
  },
  {
   "cell_type": "code",
   "execution_count": null,
   "id": "cc8003ae",
   "metadata": {},
   "outputs": [],
   "source": [
    "# np.where - conditional selection\n",
    "arr = np.array([1, 2, 3, 4, 5, 6])\n",
    "result = np.where(arr > 3, arr * 2, arr)\n",
    "print(f\"Original: {arr}\")\n",
    "print(f\"If >3 double else keep: {result}\")\n",
    "\n",
    "# Find indices\n",
    "indices = np.where(arr > 3)\n",
    "print(f\"Indices where >3: {indices}\")\n"
   ]
  },
  {
   "cell_type": "code",
   "execution_count": null,
   "id": "519703ee",
   "metadata": {},
   "outputs": [],
   "source": [
    "# argmax/argmin\n",
    "arr = np.array([3, 7, 1, 9, 2])\n",
    "print(f\"Array: {arr}\")\n",
    "print(f\"Index of max: {arr.argmax()}\")\n",
    "print(f\"Index of min: {arr.argmin()}\")\n",
    "\n",
    "arr2d = np.array([[1, 5, 3],\n",
    "                  [9, 2, 7]])\n",
    "print(f\"\\n2D array:\\n{arr2d}\")\n",
    "print(f\"Argmax per row: {arr2d.argmax(axis=1)}\")\n",
    "print(f\"Argmax per col: {arr2d.argmax(axis=0)}\")\n"
   ]
  },
  {
   "cell_type": "markdown",
   "id": "d63e336e",
   "metadata": {},
   "source": [
    "### EXERCISES 3.1 - Advanced Indexing\n"
   ]
  },
  {
   "cell_type": "code",
   "execution_count": null,
   "id": "1a934998",
   "metadata": {},
   "outputs": [],
   "source": [
    "# Exercise 3.1.1: Select elements at positions [0,3,6,9]\n",
    "arr = np.arange(20)\n",
    "ex3_1_1 = None\n",
    "\n",
    "# Exercise 3.1.2: Clip values to [10, 50] range\n",
    "arr = np.array([5, 25, 75, 100, 3, 45, 60])\n",
    "ex3_1_2 = None\n",
    "\n",
    "# Exercise 3.1.3: Find indices of local maxima\n",
    "arr = np.array([1, 3, 7, 1, 2, 6, 0, 1])\n",
    "ex3_1_3 = None\n"
   ]
  },
  {
   "cell_type": "markdown",
   "id": "23655b7e",
   "metadata": {},
   "source": [
    "## 3.2 Linear Algebra\n",
    "\n",
    "**Key operations:**\n",
    "- Dot/matrix product: `@` or `np.dot`\n",
    "- Transpose: `.T`\n",
    "- Inverse: `np.linalg.inv`\n",
    "- Determinant: `np.linalg.det`\n",
    "- Eigenvalues: `np.linalg.eig`\n",
    "- Solve systems: `np.linalg.solve`\n"
   ]
  },
  {
   "cell_type": "code",
   "execution_count": null,
   "id": "3b9adc96",
   "metadata": {},
   "outputs": [],
   "source": [
    "# Dot product\n",
    "a = np.array([1, 2, 3])\n",
    "b = np.array([4, 5, 6])\n",
    "dot = np.dot(a, b)\n",
    "print(f\"Dot product: {dot}\")\n"
   ]
  },
  {
   "cell_type": "code",
   "execution_count": null,
   "id": "e1cd9c72",
   "metadata": {},
   "outputs": [],
   "source": [
    "# Matrix multiplication\n",
    "A = np.array([[1, 2], [3, 4]])\n",
    "B = np.array([[5, 6], [7, 8]])\n",
    "C = A @ B  # Preferred for matrices\n",
    "print(f\"A @ B:\\n{C}\")\n",
    "print(f\"\\nA * B (element-wise):\\n{A * B}\")\n"
   ]
  },
  {
   "cell_type": "code",
   "execution_count": null,
   "id": "20712743",
   "metadata": {},
   "outputs": [],
   "source": [
    "# Inverse and determinant\n",
    "A = np.array([[1, 2], [3, 4]], dtype=float)\n",
    "A_inv = np.linalg.inv(A)\n",
    "det = np.linalg.det(A)\n",
    "\n",
    "print(f\"A:\\n{A}\")\n",
    "print(f\"\\nA inverse:\\n{A_inv}\")\n",
    "print(f\"\\nDeterminant: {det}\")\n",
    "print(f\"\\nA @ A_inv:\\n{A @ A_inv}\")\n"
   ]
  },
  {
   "cell_type": "code",
   "execution_count": null,
   "id": "b843dd7b",
   "metadata": {},
   "outputs": [],
   "source": [
    "# Solving Ax = b\n",
    "A = np.array([[3, 1], [1, 2]], dtype=float)\n",
    "b = np.array([9, 8])\n",
    "x = np.linalg.solve(A, b)\n",
    "\n",
    "print(f\"A:\\n{A}\")\n",
    "print(f\"b: {b}\")\n",
    "print(f\"x: {x}\")\n",
    "print(f\"Verify A@x: {A @ x}\")\n"
   ]
  },
  {
   "cell_type": "markdown",
   "id": "94fbe9f8",
   "metadata": {},
   "source": [
    "### EXERCISES 3.2 - Linear Algebra\n"
   ]
  },
  {
   "cell_type": "code",
   "execution_count": null,
   "id": "a5741a9c",
   "metadata": {},
   "outputs": [],
   "source": [
    "# Exercise 3.2.1: Calculate Euclidean norm of [3, 4]\n",
    "v = np.array([3, 4])\n",
    "ex3_2_1 = None  # Should be 5.0\n",
    "\n",
    "# Exercise 3.2.2: Check if matrix is symmetric\n",
    "A = np.array([[1, 2, 3], [2, 4, 5], [3, 5, 6]])\n",
    "ex3_2_2 = None  # Boolean\n",
    "\n",
    "# Exercise 3.2.3: Project b onto a: proj = (a·b / a·a) * a\n",
    "a = np.array([1, 0, 0])\n",
    "b = np.array([1, 1, 0])\n",
    "ex3_2_3 = None\n",
    "\n",
    "# Exercise 3.2.4: Angle between vectors (radians)\n",
    "v1 = np.array([1, 0])\n",
    "v2 = np.array([1, 1])\n",
    "ex3_2_4 = None\n"
   ]
  },
  {
   "cell_type": "markdown",
   "id": "f8c0fa98",
   "metadata": {},
   "source": [
    "## 3.3 Random Number Generation\n",
    "\n",
    "**Modern way:** `rng = np.random.default_rng(seed)`\n",
    "\n",
    "**Distributions:**\n",
    "- Uniform: `rng.random()`\n",
    "- Normal: `rng.normal()` / `rng.standard_normal()`\n",
    "- Integers: `rng.integers()`\n",
    "- Choice: `rng.choice()`\n",
    "- Permutation: `rng.permutation()`\n"
   ]
  },
  {
   "cell_type": "code",
   "execution_count": null,
   "id": "5b19d7e4",
   "metadata": {},
   "outputs": [],
   "source": [
    "rng = np.random.default_rng(42)\n",
    "\n",
    "# Distributions\n",
    "uniform = rng.random((3, 3))\n",
    "normal = rng.standard_normal((3, 3))\n",
    "integers = rng.integers(0, 10, size=(3, 3))\n",
    "\n",
    "print(\"Uniform [0,1):\\n\", uniform)\n",
    "print(\"\\nNormal (μ=0, σ=1):\\n\", normal)\n"
   ]
  },
  {
   "cell_type": "code",
   "execution_count": null,
   "id": "8d6f691a",
   "metadata": {},
   "outputs": [],
   "source": [
    "# Custom normal\n",
    "custom = rng.normal(loc=10, scale=2, size=1000)\n",
    "print(f\"Custom normal (μ=10, σ=2):\")\n",
    "print(f\"Mean: {custom.mean():.2f}\")\n",
    "print(f\"Std: {custom.std():.2f}\")\n"
   ]
  },
  {
   "cell_type": "code",
   "execution_count": null,
   "id": "4999a67d",
   "metadata": {},
   "outputs": [],
   "source": [
    "# Random choice and permutation\n",
    "arr = np.array([10, 20, 30, 40, 50])\n",
    "choice = rng.choice(arr, size=3, replace=False)\n",
    "shuffled = rng.permutation(arr)\n",
    "\n",
    "print(f\"Original: {arr}\")\n",
    "print(f\"Choice (no replacement): {choice}\")\n",
    "print(f\"Shuffled: {shuffled}\")\n"
   ]
  },
  {
   "cell_type": "markdown",
   "id": "25834b0e",
   "metadata": {},
   "source": [
    "## 3.4 Performance and Vectorization\n",
    "\n",
    "**Golden Rule:** If you write a `for` loop over array elements, you're doing it wrong!\n",
    "\n",
    "**Why NumPy is fast:**\n",
    "1. Vectorization - operations in compiled C\n",
    "2. Broadcasting - avoid loops\n",
    "3. Views - avoid unnecessary copies\n"
   ]
  },
  {
   "cell_type": "code",
   "execution_count": null,
   "id": "adc29bfd",
   "metadata": {},
   "outputs": [],
   "source": [
    "# Performance comparison\n",
    "n = 1_000_000\n",
    "\n",
    "# Python list\n",
    "python_list = list(range(n))\n",
    "start = time.time()\n",
    "result = [x ** 2 for x in python_list]\n",
    "time_list = time.time() - start\n",
    "\n",
    "# NumPy vectorized\n",
    "numpy_array = np.arange(n)\n",
    "start = time.time()\n",
    "result = numpy_array ** 2\n",
    "time_numpy = time.time() - start\n",
    "\n",
    "print(f\"Python list: {time_list:.4f}s\")\n",
    "print(f\"NumPy array: {time_numpy:.4f}s\")\n",
    "print(f\"Speedup: {time_list / time_numpy:.0f}x faster!\")\n"
   ]
  },
  {
   "cell_type": "code",
   "execution_count": null,
   "id": "1ea682e2",
   "metadata": {},
   "outputs": [],
   "source": [
    "# Bad vs Good practice\n",
    "arr = np.random.rand(10000)\n",
    "\n",
    "# BAD - loop\n",
    "start = time.time()\n",
    "result = np.empty_like(arr)\n",
    "for i in range(len(arr)):\n",
    "    result[i] = np.sin(arr[i])\n",
    "time_loop = time.time() - start\n",
    "\n",
    "# GOOD - vectorized\n",
    "start = time.time()\n",
    "result = np.sin(arr)\n",
    "time_vectorized = time.time() - start\n",
    "\n",
    "print(f\"With loop: {time_loop:.4f}s\")\n",
    "print(f\"Vectorized: {time_vectorized:.4f}s\")\n",
    "print(f\"Speedup: {time_loop / time_vectorized:.0f}x\")\n"
   ]
  },
  {
   "cell_type": "markdown",
   "id": "8885f5c0",
   "metadata": {},
   "source": [
    "### EXERCISES 3.4 - Vectorization\n"
   ]
  },
  {
   "cell_type": "code",
   "execution_count": null,
   "id": "12f9f191",
   "metadata": {},
   "outputs": [],
   "source": [
    "# Exercise 3.4.1: Vectorize: clip to [0, 1]\n",
    "arr = np.random.randn(1000)\n",
    "ex3_4_1 = None  # Single line using np.clip\n",
    "\n",
    "# Exercise 3.4.2: Pairwise distances using broadcasting\n",
    "points = np.random.rand(10, 2)\n",
    "ex3_4_2 = None  # No nested loops!\n"
   ]
  },
  {
   "cell_type": "code",
   "execution_count": null,
   "id": "d1210616",
   "metadata": {},
   "outputs": [],
   "source": [
    "---\n",
    "# PART 4: DATA SCIENCE INTEGRATION\n",
    "## Pandas, Matplotlib, SciPy\n",
    "---\n"
   ]
  },
  {
   "cell_type": "markdown",
   "id": "599ec6d1",
   "metadata": {},
   "source": [
    "## 4.1 Pandas Basics - DataFrames\n",
    "\n",
    "**Pandas = NumPy + labels + missing data**\n",
    "\n",
    "Install: `pip install pandas`\n"
   ]
  },
  {
   "cell_type": "code",
   "execution_count": null,
   "id": "bcba1d5b",
   "metadata": {},
   "outputs": [],
   "source": [
    "try:\n",
    "    import pandas as pd\n",
    "    print(\"Pandas version:\", pd.__version__)\n",
    "    \n",
    "    # Create DataFrame from NumPy\n",
    "    data = np.random.randn(5, 3)\n",
    "    df = pd.DataFrame(data, columns=['A', 'B', 'C'])\n",
    "    print(\"\\nDataFrame from NumPy:\\n\", df)\n",
    "    \n",
    "except ImportError:\n",
    "    print(\"Install pandas: pip install pandas\")\n"
   ]
  },
  {
   "cell_type": "code",
   "execution_count": null,
   "id": "41c0a00b",
   "metadata": {},
   "outputs": [],
   "source": [
    "# DataFrame from dictionary\n",
    "data_dict = {\n",
    "    'name': ['Alice', 'Bob', 'Charlie', 'David'],\n",
    "    'age': [25, 30, 35, 28],\n",
    "    'score': [85.5, 92.0, 78.5, 88.0]\n",
    "}\n",
    "df = pd.DataFrame(data_dict)\n",
    "print(\"DataFrame:\\n\", df)\n"
   ]
  },
  {
   "cell_type": "code",
   "execution_count": null,
   "id": "6061ba8f",
   "metadata": {},
   "outputs": [],
   "source": [
    "# Access and filter\n",
    "print(\"Ages:\\n\", df['age'])\n",
    "print(\"\\nFirst row:\\n\", df.iloc[0])\n",
    "print(\"\\nScore > 85:\\n\", df[df['score'] > 85])\n"
   ]
  },
  {
   "cell_type": "code",
   "execution_count": null,
   "id": "13c6721f",
   "metadata": {},
   "outputs": [],
   "source": [
    "# Add column (vectorized!)\n",
    "df['score_squared'] = df['score'] ** 2\n",
    "print(\"With new column:\\n\", df)\n"
   ]
  },
  {
   "cell_type": "code",
   "execution_count": null,
   "id": "e9917998",
   "metadata": {},
   "outputs": [],
   "source": [
    "# Statistics\n",
    "print(\"Statistics:\\n\", df[['age', 'score']].describe())\n"
   ]
  },
  {
   "cell_type": "code",
   "execution_count": null,
   "id": "fe2f69fc",
   "metadata": {},
   "outputs": [],
   "source": [
    "# GroupBy\n",
    "df['group'] = ['A', 'B', 'A', 'B']\n",
    "grouped = df.groupby('group')['score'].mean()\n",
    "print(\"Mean score by group:\\n\", grouped)\n"
   ]
  },
  {
   "cell_type": "code",
   "execution_count": null,
   "id": "21784f00",
   "metadata": {},
   "outputs": [],
   "source": [
    "# Convert to NumPy\n",
    "values = df[['age', 'score']].values\n",
    "print(\"As NumPy array:\\n\", values)\n",
    "print(\"Type:\", type(values))\n"
   ]
  },
  {
   "cell_type": "markdown",
   "id": "a5b077d8",
   "metadata": {},
   "source": [
    "## 4.2 Matplotlib Basics - Visualization\n",
    "\n",
    "**Matplotlib = plotting library**\n",
    "\n",
    "Install: `pip install matplotlib`\n"
   ]
  },
  {
   "cell_type": "code",
   "execution_count": null,
   "id": "88893da5",
   "metadata": {},
   "outputs": [],
   "source": [
    "try:\n",
    "    import matplotlib.pyplot as plt\n",
    "    print(\"Matplotlib imported successfully!\")\n",
    "    \n",
    "    # Line plot\n",
    "    x = np.linspace(0, 2 * np.pi, 100)\n",
    "    y = np.sin(x)\n",
    "    \n",
    "    plt.figure(figsize=(10, 4))\n",
    "    plt.subplot(1, 2, 1)\n",
    "    plt.plot(x, y)\n",
    "    plt.title('Sine Wave')\n",
    "    plt.xlabel('x')\n",
    "    plt.ylabel('sin(x)')\n",
    "    plt.grid(True)\n",
    "    \n",
    "    # Scatter plot\n",
    "    plt.subplot(1, 2, 2)\n",
    "    x = np.random.randn(100)\n",
    "    y = 2 * x + np.random.randn(100) * 0.5\n",
    "    plt.scatter(x, y, alpha=0.5)\n",
    "    plt.title('Scatter Plot')\n",
    "    plt.xlabel('X')\n",
    "    plt.ylabel('Y')\n",
    "    plt.grid(True)\n",
    "    \n",
    "    plt.tight_layout()\n",
    "    plt.show()\n",
    "    \n",
    "except ImportError:\n",
    "    print(\"Install matplotlib: pip install matplotlib\")\n"
   ]
  },
  {
   "cell_type": "code",
   "execution_count": null,
   "id": "8ff6b645",
   "metadata": {},
   "outputs": [],
   "source": [
    "# Histogram\n",
    "data = np.random.normal(0, 1, 1000)\n",
    "plt.figure(figsize=(8, 5))\n",
    "plt.hist(data, bins=30, alpha=0.7, edgecolor='black')\n",
    "plt.title('Normal Distribution')\n",
    "plt.xlabel('Value')\n",
    "plt.ylabel('Frequency')\n",
    "plt.grid(True, alpha=0.3)\n",
    "plt.show()\n"
   ]
  },
  {
   "cell_type": "code",
   "execution_count": null,
   "id": "387734c7",
   "metadata": {},
   "outputs": [],
   "source": [
    "# Heatmap\n",
    "data = np.random.rand(10, 10)\n",
    "plt.figure(figsize=(8, 6))\n",
    "plt.imshow(data, cmap='hot', interpolation='nearest')\n",
    "plt.colorbar(label='Value')\n",
    "plt.title('Heatmap')\n",
    "plt.show()\n"
   ]
  },
  {
   "cell_type": "code",
   "execution_count": null,
   "id": "1f711ba7",
   "metadata": {},
   "outputs": [],
   "source": [
    "# Multiple plots\n",
    "fig, axes = plt.subplots(2, 2, figsize=(10, 8))\n",
    "\n",
    "# Plot 1: Line\n",
    "x = np.linspace(0, 10, 100)\n",
    "axes[0, 0].plot(x, np.sin(x))\n",
    "axes[0, 0].set_title('Sine')\n",
    "\n",
    "# Plot 2: Scatter\n",
    "axes[0, 1].scatter(np.random.randn(50), np.random.randn(50))\n",
    "axes[0, 1].set_title('Scatter')\n",
    "\n",
    "# Plot 3: Bar\n",
    "axes[1, 0].bar(['A', 'B', 'C'], [3, 7, 5])\n",
    "axes[1, 0].set_title('Bar Chart')\n",
    "\n",
    "# Plot 4: Histogram\n",
    "axes[1, 1].hist(np.random.randn(1000), bins=20)\n",
    "axes[1, 1].set_title('Histogram')\n",
    "\n",
    "plt.tight_layout()\n",
    "plt.show()\n"
   ]
  },
  {
   "cell_type": "markdown",
   "id": "8556574a",
   "metadata": {},
   "source": [
    "## 4.3 SciPy - Scientific Computing\n",
    "\n",
    "**SciPy = Advanced scientific algorithms**\n",
    "\n",
    "**Modules:**\n",
    "- `scipy.optimize` - optimization, curve fitting\n",
    "- `scipy.interpolate` - interpolation\n",
    "- `scipy.signal` - signal processing, FFT\n",
    "- `scipy.stats` - statistical functions\n",
    "- `scipy.integrate` - integration\n",
    "- `scipy.spatial` - spatial algorithms\n",
    "\n",
    "Install: `pip install scipy`\n"
   ]
  },
  {
   "cell_type": "code",
   "execution_count": null,
   "id": "7542a4cb",
   "metadata": {},
   "outputs": [],
   "source": [
    "try:\n",
    "    import scipy\n",
    "    print(\"SciPy version:\", scipy.__version__)\n",
    "    from scipy import optimize, interpolate, signal, stats, integrate\n",
    "    \n",
    "except ImportError:\n",
    "    print(\"Install scipy: pip install scipy\")\n"
   ]
  },
  {
   "cell_type": "markdown",
   "id": "a8852a27",
   "metadata": {},
   "source": [
    "### 4.3.1 SciPy Optimization\n"
   ]
  },
  {
   "cell_type": "code",
   "execution_count": null,
   "id": "20ffa98c",
   "metadata": {},
   "outputs": [],
   "source": [
    "from scipy import optimize\n",
    "\n",
    "# Minimize function: f(x) = x^2 + 10*sin(x)\n",
    "def f(x):\n",
    "    return x**2 + 10*np.sin(x)\n",
    "\n",
    "# Find minimum\n",
    "result = optimize.minimize(f, x0=0)\n",
    "print(\"Minimum found at x =\", result.x[0])\n",
    "print(\"Function value:\", result.fun)\n",
    "\n",
    "# Plot to visualize\n",
    "x = np.linspace(-5, 5, 200)\n",
    "plt.figure(figsize=(10, 4))\n",
    "plt.plot(x, f(x), label='f(x)')\n",
    "plt.plot(result.x, result.fun, 'ro', markersize=10, label='Minimum')\n",
    "plt.xlabel('x')\n",
    "plt.ylabel('f(x)')\n",
    "plt.title('Function Minimization')\n",
    "plt.legend()\n",
    "plt.grid(True)\n",
    "plt.show()\n"
   ]
  },
  {
   "cell_type": "code",
   "execution_count": null,
   "id": "cd75571f",
   "metadata": {},
   "outputs": [],
   "source": [
    "# Curve fitting\n",
    "from scipy.optimize import curve_fit\n",
    "\n",
    "# Generate noisy data\n",
    "x_data = np.linspace(0, 4, 50)\n",
    "y_data = 2.5 * np.exp(-x_data / 1.5) + np.random.normal(0, 0.2, 50)\n",
    "\n",
    "# Define model\n",
    "def exponential(x, a, b):\n",
    "    return a * np.exp(-x / b)\n",
    "\n",
    "# Fit curve\n",
    "params, covariance = curve_fit(exponential, x_data, y_data)\n",
    "print(f\"Fitted parameters: a={params[0]:.2f}, b={params[1]:.2f}\")\n",
    "\n",
    "# Plot\n",
    "plt.figure(figsize=(10, 4))\n",
    "plt.scatter(x_data, y_data, alpha=0.5, label='Data')\n",
    "plt.plot(x_data, exponential(x_data, *params), 'r-', label='Fit')\n",
    "plt.xlabel('x')\n",
    "plt.ylabel('y')\n",
    "plt.title('Curve Fitting')\n",
    "plt.legend()\n",
    "plt.grid(True)\n",
    "plt.show()\n"
   ]
  },
  {
   "cell_type": "markdown",
   "id": "6cf584fc",
   "metadata": {},
   "source": [
    "### 4.3.2 SciPy Interpolation\n"
   ]
  },
  {
   "cell_type": "code",
   "execution_count": null,
   "id": "462ad87e",
   "metadata": {},
   "outputs": [],
   "source": [
    "from scipy import interpolate\n",
    "\n",
    "# Original sparse data\n",
    "x = np.array([0, 1, 2, 3, 4, 5])\n",
    "y = np.array([0, 1, 4, 9, 16, 25])\n",
    "\n",
    "# Create interpolation function\n",
    "f_linear = interpolate.interp1d(x, y, kind='linear')\n",
    "f_cubic = interpolate.interp1d(x, y, kind='cubic')\n",
    "\n",
    "# Interpolate at new points\n",
    "x_new = np.linspace(0, 5, 100)\n",
    "y_linear = f_linear(x_new)\n",
    "y_cubic = f_cubic(x_new)\n",
    "\n",
    "# Plot\n",
    "plt.figure(figsize=(10, 4))\n",
    "plt.plot(x, y, 'o', label='Original data')\n",
    "plt.plot(x_new, y_linear, '--', label='Linear interpolation')\n",
    "plt.plot(x_new, y_cubic, '-', label='Cubic interpolation')\n",
    "plt.xlabel('x')\n",
    "plt.ylabel('y')\n",
    "plt.title('Interpolation')\n",
    "plt.legend()\n",
    "plt.grid(True)\n",
    "plt.show()\n"
   ]
  },
  {
   "cell_type": "markdown",
   "id": "72ef4ac8",
   "metadata": {},
   "source": [
    "### 4.3.3 SciPy Signal Processing\n"
   ]
  },
  {
   "cell_type": "code",
   "execution_count": null,
   "id": "3c5d77f7",
   "metadata": {},
   "outputs": [],
   "source": [
    "from scipy import signal\n",
    "\n",
    "# Generate noisy signal\n",
    "t = np.linspace(0, 1, 1000)\n",
    "clean_signal = np.sin(2 * np.pi * 5 * t)  # 5 Hz sine\n",
    "noise = np.random.normal(0, 0.5, 1000)\n",
    "noisy_signal = clean_signal + noise\n",
    "\n",
    "# Apply low-pass filter\n",
    "b, a = signal.butter(4, 0.1)  # 4th order Butterworth filter\n",
    "filtered_signal = signal.filtfilt(b, a, noisy_signal)\n",
    "\n",
    "# Plot\n",
    "plt.figure(figsize=(12, 4))\n",
    "plt.subplot(1, 3, 1)\n",
    "plt.plot(t[:200], clean_signal[:200])\n",
    "plt.title('Clean Signal')\n",
    "plt.xlabel('Time')\n",
    "\n",
    "plt.subplot(1, 3, 2)\n",
    "plt.plot(t[:200], noisy_signal[:200])\n",
    "plt.title('Noisy Signal')\n",
    "plt.xlabel('Time')\n",
    "\n",
    "plt.subplot(1, 3, 3)\n",
    "plt.plot(t[:200], filtered_signal[:200])\n",
    "plt.title('Filtered Signal')\n",
    "plt.xlabel('Time')\n",
    "\n",
    "plt.tight_layout()\n",
    "plt.show()\n"
   ]
  },
  {
   "cell_type": "code",
   "execution_count": null,
   "id": "930a644a",
   "metadata": {},
   "outputs": [],
   "source": [
    "# FFT - Frequency analysis\n",
    "from scipy.fft import fft, fftfreq\n",
    "\n",
    "# Signal with multiple frequencies\n",
    "t = np.linspace(0, 2, 1000)\n",
    "signal_mixed = (np.sin(2 * np.pi * 5 * t) + \n",
    "                0.5 * np.sin(2 * np.pi * 10 * t))\n",
    "\n",
    "# Compute FFT\n",
    "fft_values = fft(signal_mixed)\n",
    "fft_freq = fftfreq(len(t), t[1] - t[0])\n",
    "\n",
    "# Plot\n",
    "plt.figure(figsize=(12, 4))\n",
    "plt.subplot(1, 2, 1)\n",
    "plt.plot(t[:100], signal_mixed[:100])\n",
    "plt.title('Time Domain')\n",
    "plt.xlabel('Time (s)')\n",
    "plt.ylabel('Amplitude')\n",
    "\n",
    "plt.subplot(1, 2, 2)\n",
    "plt.plot(fft_freq[:len(fft_freq)//2], \n",
    "         np.abs(fft_values[:len(fft_values)//2]))\n",
    "plt.title('Frequency Domain (FFT)')\n",
    "plt.xlabel('Frequency (Hz)')\n",
    "plt.ylabel('Magnitude')\n",
    "plt.xlim(0, 20)\n",
    "\n",
    "plt.tight_layout()\n",
    "plt.show()\n"
   ]
  },
  {
   "cell_type": "markdown",
   "id": "49b0f62b",
   "metadata": {},
   "source": [
    "### 4.3.4 SciPy Statistics\n"
   ]
  },
  {
   "cell_type": "code",
   "execution_count": null,
   "id": "019857a2",
   "metadata": {},
   "outputs": [],
   "source": [
    "from scipy import stats\n",
    "\n",
    "# Generate samples from different distributions\n",
    "normal_data = np.random.normal(0, 1, 1000)\n",
    "uniform_data = np.random.uniform(-2, 2, 1000)\n",
    "\n",
    "# Statistical tests\n",
    "print(\"Descriptive Statistics:\")\n",
    "print(f\"Mean: {stats.describe(normal_data).mean:.3f}\")\n",
    "print(f\"Variance: {stats.describe(normal_data).variance:.3f}\")\n",
    "print(f\"Skewness: {stats.skew(normal_data):.3f}\")\n",
    "print(f\"Kurtosis: {stats.kurtosis(normal_data):.3f}\")\n"
   ]
  },
  {
   "cell_type": "code",
   "execution_count": null,
   "id": "ff64acef",
   "metadata": {},
   "outputs": [],
   "source": [
    "# T-test: compare two samples\n",
    "sample1 = np.random.normal(0, 1, 100)\n",
    "sample2 = np.random.normal(0.5, 1, 100)\n",
    "\n",
    "t_stat, p_value = stats.ttest_ind(sample1, sample2)\n",
    "print(f\"\\nT-test: t={t_stat:.3f}, p={p_value:.3f}\")\n",
    "if p_value < 0.05:\n",
    "    print(\"Samples are significantly different!\")\n",
    "else:\n",
    "    print(\"No significant difference\")\n"
   ]
  },
  {
   "cell_type": "code",
   "execution_count": null,
   "id": "be957db0",
   "metadata": {},
   "outputs": [],
   "source": [
    "# Correlation\n",
    "x = np.random.randn(100)\n",
    "y = 2 * x + np.random.randn(100) * 0.5\n",
    "\n",
    "correlation, p_value = stats.pearsonr(x, y)\n",
    "print(f\"Pearson correlation: r={correlation:.3f}, p={p_value:.4f}\")\n",
    "\n",
    "plt.figure(figsize=(8, 6))\n",
    "plt.scatter(x, y, alpha=0.5)\n",
    "plt.xlabel('X')\n",
    "plt.ylabel('Y')\n",
    "plt.title(f'Correlation: r={correlation:.3f}')\n",
    "plt.grid(True)\n",
    "plt.show()\n"
   ]
  },
  {
   "cell_type": "code",
   "execution_count": null,
   "id": "3433e3b7",
   "metadata": {},
   "outputs": [],
   "source": [
    "# Distributions\n",
    "x = np.linspace(-4, 4, 100)\n",
    "\n",
    "# Different distributions\n",
    "distributions = [\n",
    "    ('Normal', stats.norm(0, 1)),\n",
    "    ('t-distribution', stats.t(df=5)),\n",
    "    ('Chi-square', stats.chi2(df=3))\n",
    "]\n",
    "\n",
    "plt.figure(figsize=(12, 4))\n",
    "for i, (name, dist) in enumerate(distributions, 1):\n",
    "    plt.subplot(1, 3, i)\n",
    "    plt.plot(x, dist.pdf(x))\n",
    "    plt.title(name)\n",
    "    plt.xlabel('x')\n",
    "    plt.ylabel('PDF')\n",
    "    plt.grid(True)\n",
    "\n",
    "plt.tight_layout()\n",
    "plt.show()\n"
   ]
  },
  {
   "cell_type": "markdown",
   "id": "624ec01b",
   "metadata": {},
   "source": [
    "### 4.3.5 SciPy Integration\n"
   ]
  },
  {
   "cell_type": "code",
   "execution_count": null,
   "id": "7ae15f03",
   "metadata": {},
   "outputs": [],
   "source": [
    "from scipy import integrate\n",
    "\n",
    "# Integrate function: ∫(x^2) dx from 0 to 1\n",
    "def f(x):\n",
    "    return x**2\n",
    "\n",
    "result, error = integrate.quad(f, 0, 1)\n",
    "print(f\"∫x² dx from 0 to 1 = {result:.6f}\")\n",
    "print(f\"Error estimate: {error:.2e}\")\n",
    "print(f\"Analytical result: 1/3 = {1/3:.6f}\")\n"
   ]
  },
  {
   "cell_type": "code",
   "execution_count": null,
   "id": "b61677d2",
   "metadata": {},
   "outputs": [],
   "source": [
    "# Solve ODE: dy/dt = -y, y(0) = 1\n",
    "def dydt(y, t):\n",
    "    return -y\n",
    "\n",
    "t = np.linspace(0, 5, 100)\n",
    "y0 = 1.0\n",
    "solution = integrate.odeint(dydt, y0, t)\n",
    "\n",
    "plt.figure(figsize=(10, 4))\n",
    "plt.plot(t, solution, label='Numerical solution')\n",
    "plt.plot(t, np.exp(-t), '--', label='Analytical: e^(-t)')\n",
    "plt.xlabel('Time')\n",
    "plt.ylabel('y(t)')\n",
    "plt.title('ODE Solution')\n",
    "plt.legend()\n",
    "plt.grid(True)\n",
    "plt.show()\n"
   ]
  },
  {
   "cell_type": "markdown",
   "id": "8bee4ce2",
   "metadata": {},
   "source": [
    "### 4.3.6 SciPy Spatial - Distance and Clustering\n"
   ]
  },
  {
   "cell_type": "code",
   "execution_count": null,
   "id": "37e06b41",
   "metadata": {},
   "outputs": [],
   "source": [
    "from scipy.spatial import distance, KDTree\n",
    "\n",
    "# Pairwise distances\n",
    "points = np.random.rand(5, 2)\n",
    "\n",
    "# Euclidean distance matrix\n",
    "dist_matrix = distance.cdist(points, points, metric='euclidean')\n",
    "print(\"Distance matrix:\\n\", dist_matrix)\n",
    "\n",
    "plt.figure(figsize=(8, 6))\n",
    "plt.scatter(points[:, 0], points[:, 1], s=100)\n",
    "for i, point in enumerate(points):\n",
    "    plt.annotate(f'P{i}', point, fontsize=12)\n",
    "plt.xlabel('X')\n",
    "plt.ylabel('Y')\n",
    "plt.title('Points in 2D Space')\n",
    "plt.grid(True)\n",
    "plt.show()\n"
   ]
  },
  {
   "cell_type": "code",
   "execution_count": null,
   "id": "40f2ca4f",
   "metadata": {},
   "outputs": [],
   "source": [
    "# KDTree for fast nearest neighbor search\n",
    "points = np.random.rand(1000, 2)\n",
    "tree = KDTree(points)\n",
    "\n",
    "# Find 5 nearest neighbors to origin\n",
    "query_point = np.array([0.5, 0.5])\n",
    "distances, indices = tree.query(query_point, k=5)\n",
    "\n",
    "print(f\"Query point: {query_point}\")\n",
    "print(f\"5 nearest neighbors:\")\n",
    "for i, (dist, idx) in enumerate(zip(distances, indices)):\n",
    "    print(f\"  {i+1}. Point {idx} at distance {dist:.3f}\")\n",
    "\n",
    "# Visualize\n",
    "plt.figure(figsize=(8, 6))\n",
    "plt.scatter(points[:, 0], points[:, 1], alpha=0.3, s=10)\n",
    "plt.scatter(query_point[0], query_point[1], c='red', s=100, \n",
    "            marker='*', label='Query point')\n",
    "plt.scatter(points[indices, 0], points[indices, 1], c='green', \n",
    "            s=50, label='Nearest neighbors')\n",
    "plt.xlabel('X')\n",
    "plt.ylabel('Y')\n",
    "plt.title('KDTree Nearest Neighbor Search')\n",
    "plt.legend()\n",
    "plt.grid(True)\n",
    "plt.show()\n"
   ]
  },
  {
   "cell_type": "markdown",
   "id": "42931576",
   "metadata": {},
   "source": [
    "### EXERCISES 4.3 - SciPy Integration\n"
   ]
  },
  {
   "cell_type": "code",
   "execution_count": null,
   "id": "e273550e",
   "metadata": {},
   "outputs": [],
   "source": [
    "# Exercise 4.3.1: Fit exponential decay to data\n",
    "t_data = np.array([0, 1, 2, 3, 4, 5])\n",
    "y_data = np.array([10, 6.7, 4.5, 3.0, 2.0, 1.4])\n",
    "# Fit: y = a * exp(-b * t)\n",
    "\n",
    "# Exercise 4.3.2: Apply moving average filter to noisy signal\n",
    "noisy = np.sin(np.linspace(0, 4*np.pi, 200)) + np.random.randn(200) * 0.3\n",
    "# Use signal.savgol_filter with window=15, polyorder=3\n",
    "\n",
    "# Exercise 4.3.3: Test if data is normally distributed\n",
    "data = np.random.randn(1000)\n",
    "# Use stats.normaltest\n",
    "\n",
    "# Exercise 4.3.4: Find all points within radius 0.2 of origin\n",
    "points = np.random.rand(100, 2)\n",
    "# Use KDTree.query_ball_point\n"
   ]
  },
  {
   "cell_type": "code",
   "execution_count": null,
   "id": "f114f5f5",
   "metadata": {},
   "outputs": [],
   "source": [
    "---\n",
    "# PART 5: REAL-WORLD PROJECTS\n",
    "---\n",
    "\n",
    "**Choose one or more projects to apply everything:**\n",
    "\n",
    "1. **Image Processing**\n",
    "   - Load/manipulate images as arrays\n",
    "   - Apply filters (blur, edge detection)\n",
    "   - Color transformations\n",
    "\n",
    "2. **Time Series Analysis**\n",
    "   - Sensor data analysis\n",
    "   - Moving averages\n",
    "   - Anomaly detection\n",
    "   - FFT frequency analysis\n",
    "\n",
    "3. **Machine Learning Data Prep**\n",
    "   - Load Kaggle dataset\n",
    "   - Data cleaning\n",
    "   - Feature engineering\n",
    "   - Train/test split\n",
    "   - Normalization\n",
    "\n",
    "4. **Physics Simulation**\n",
    "   - Projectile motion\n",
    "   - Heat diffusion\n",
    "   - N-body problem\n",
    "   - Wave equation\n",
    "\n",
    "5. **Robotics: IMU Data Analysis**\n",
    "   - Load IMU sensor data\n",
    "   - Signal filtering\n",
    "   - Motion classification\n",
    "   - Vibration analysis\n"
   ]
  },
  {
   "cell_type": "markdown",
   "id": "43f2a6d8",
   "metadata": {},
   "source": [
    "## PROJECT 1: Time Series Analysis - IMU Sensor Data\n",
    "\n",
    "**Task:** Analyze accelerometer data to detect motion patterns\n",
    "\n",
    "We'll simulate IMU data (or you can load real data from Kaggle)\n"
   ]
  },
  {
   "cell_type": "code",
   "execution_count": null,
   "id": "c06e3aa9",
   "metadata": {},
   "outputs": [],
   "source": [
    "# Simulate IMU data (accelerometer x, y, z)\n",
    "np.random.seed(42)\n",
    "t = np.linspace(0, 10, 1000)\n",
    "\n",
    "# Simulate different motion states\n",
    "walking = np.sin(2 * np.pi * 2 * t) + np.random.randn(1000) * 0.2\n",
    "stationary = np.random.randn(1000) * 0.1\n",
    "running = 2 * np.sin(2 * np.pi * 4 * t) + np.random.randn(1000) * 0.3\n",
    "\n",
    "# Combine: 3s stationary, 4s walking, 3s running\n",
    "acc_x = np.concatenate([\n",
    "    stationary[:300],\n",
    "    walking[300:700],\n",
    "    running[700:]\n",
    "])\n",
    "\n",
    "acc_y = np.roll(acc_x, 100) + np.random.randn(1000) * 0.1\n",
    "acc_z = np.roll(acc_x, 200) + np.random.randn(1000) * 0.1\n",
    "\n",
    "# Create DataFrame\n",
    "df = pd.DataFrame({\n",
    "    'time': t,\n",
    "    'acc_x': acc_x,\n",
    "    'acc_y': acc_y,\n",
    "    'acc_z': acc_z\n",
    "})\n",
    "\n",
    "print(\"IMU Data:\")\n",
    "print(df.head())\n"
   ]
  },
  {
   "cell_type": "code",
   "execution_count": null,
   "id": "cfdf40f0",
   "metadata": {},
   "outputs": [],
   "source": [
    "# Visualize raw data\n",
    "plt.figure(figsize=(12, 6))\n",
    "plt.plot(df['time'], df['acc_x'], label='X', alpha=0.7)\n",
    "plt.plot(df['time'], df['acc_y'], label='Y', alpha=0.7)\n",
    "plt.plot(df['time'], df['acc_z'], label='Z', alpha=0.7)\n",
    "plt.xlabel('Time (s)')\n",
    "plt.ylabel('Acceleration (m/s²)')\n",
    "plt.title('Raw IMU Data')\n",
    "plt.legend()\n",
    "plt.grid(True)\n",
    "plt.show()\n"
   ]
  },
  {
   "cell_type": "code",
   "execution_count": null,
   "id": "1d539301",
   "metadata": {},
   "outputs": [],
   "source": [
    "# Calculate magnitude\n",
    "df['magnitude'] = np.sqrt(df['acc_x']**2 + df['acc_y']**2 + df['acc_z']**2)\n",
    "\n",
    "plt.figure(figsize=(12, 4))\n",
    "plt.plot(df['time'], df['magnitude'])\n",
    "plt.xlabel('Time (s)')\n",
    "plt.ylabel('Acceleration Magnitude')\n",
    "plt.title('Acceleration Magnitude Over Time')\n",
    "plt.grid(True)\n",
    "plt.show()\n"
   ]
  },
  {
   "cell_type": "code",
   "execution_count": null,
   "id": "61795193",
   "metadata": {},
   "outputs": [],
   "source": [
    "# Apply moving average filter\n",
    "from scipy.ndimage import uniform_filter1d\n",
    "\n",
    "window_size = 20\n",
    "df['magnitude_filtered'] = uniform_filter1d(df['magnitude'], window_size)\n",
    "\n",
    "plt.figure(figsize=(12, 4))\n",
    "plt.plot(df['time'], df['magnitude'], alpha=0.3, label='Raw')\n",
    "plt.plot(df['time'], df['magnitude_filtered'], label='Filtered', linewidth=2)\n",
    "plt.xlabel('Time (s)')\n",
    "plt.ylabel('Magnitude')\n",
    "plt.title('Filtered Signal')\n",
    "plt.legend()\n",
    "plt.grid(True)\n",
    "plt.show()\n"
   ]
  },
  {
   "cell_type": "code",
   "execution_count": null,
   "id": "4b8d0d97",
   "metadata": {},
   "outputs": [],
   "source": [
    "# FFT Analysis\n",
    "from scipy.fft import fft, fftfreq\n",
    "\n",
    "# FFT on each segment\n",
    "segments = [\n",
    "    (0, 300, 'Stationary'),\n",
    "    (300, 700, 'Walking'),\n",
    "    (700, 1000, 'Running')\n",
    "]\n",
    "\n",
    "plt.figure(figsize=(15, 4))\n",
    "for i, (start, end, label) in enumerate(segments, 1):\n",
    "    segment_data = df['magnitude'].iloc[start:end].values\n",
    "    fft_values = np.abs(fft(segment_data))\n",
    "    fft_freq = fftfreq(len(segment_data), t[1] - t[0])\n",
    "    \n",
    "    plt.subplot(1, 3, i)\n",
    "    plt.plot(fft_freq[:len(fft_freq)//2], fft_values[:len(fft_values)//2])\n",
    "    plt.title(f'FFT: {label}')\n",
    "    plt.xlabel('Frequency (Hz)')\n",
    "    plt.ylabel('Magnitude')\n",
    "    plt.xlim(0, 10)\n",
    "    plt.grid(True)\n",
    "\n",
    "plt.tight_layout()\n",
    "plt.show()\n"
   ]
  },
  {
   "cell_type": "code",
   "execution_count": null,
   "id": "cc1f3f4b",
   "metadata": {},
   "outputs": [],
   "source": [
    "# Feature extraction for classification\n",
    "def extract_features(signal, window_size=100):\n",
    "    \"\"\"Extract statistical features from signal\"\"\"\n",
    "    features = []\n",
    "    for i in range(0, len(signal) - window_size, window_size):\n",
    "        window = signal[i:i+window_size]\n",
    "        features.append({\n",
    "            'mean': np.mean(window),\n",
    "            'std': np.std(window),\n",
    "            'max': np.max(window),\n",
    "            'min': np.min(window),\n",
    "            'range': np.ptp(window),  # peak-to-peak\n",
    "        })\n",
    "    return pd.DataFrame(features)\n",
    "\n",
    "features = extract_features(df['magnitude'].values)\n",
    "print(\"\\nExtracted Features:\")\n",
    "print(features.head())\n"
   ]
  },
  {
   "cell_type": "code",
   "execution_count": null,
   "id": "202f71bc",
   "metadata": {},
   "outputs": [],
   "source": [
    "# Visualize features\n",
    "plt.figure(figsize=(12, 8))\n",
    "\n",
    "plt.subplot(3, 1, 1)\n",
    "plt.plot(features['mean'])\n",
    "plt.ylabel('Mean')\n",
    "plt.title('Features Over Time')\n",
    "plt.grid(True)\n",
    "\n",
    "plt.subplot(3, 1, 2)\n",
    "plt.plot(features['std'])\n",
    "plt.ylabel('Std Dev')\n",
    "plt.grid(True)\n",
    "\n",
    "plt.subplot(3, 1, 3)\n",
    "plt.plot(features['range'])\n",
    "plt.ylabel('Range')\n",
    "plt.xlabel('Window Index')\n",
    "plt.grid(True)\n",
    "\n",
    "plt.tight_layout()\n",
    "plt.show()\n"
   ]
  },
  {
   "cell_type": "markdown",
   "id": "77d5cf03",
   "metadata": {},
   "source": [
    "## PROJECT 2: Image Processing with NumPy\n",
    "\n",
    "**Task:** Basic image manipulations using NumPy arrays\n"
   ]
  },
  {
   "cell_type": "code",
   "execution_count": null,
   "id": "c853f128",
   "metadata": {},
   "outputs": [],
   "source": [
    "# Create synthetic image (gradient + noise)\n",
    "height, width = 256, 256\n",
    "\n",
    "# Create meshgrid\n",
    "x = np.linspace(0, 1, width)\n",
    "y = np.linspace(0, 1, height)\n",
    "X, Y = np.meshgrid(x, y)\n",
    "\n",
    "# Create image\n",
    "image = (X + Y) / 2 + np.random.randn(height, width) * 0.1\n",
    "image = np.clip(image, 0, 1)  # Clip to [0, 1]\n",
    "\n",
    "plt.figure(figsize=(8, 6))\n",
    "plt.imshow(image, cmap='gray')\n",
    "plt.colorbar()\n",
    "plt.title('Original Image')\n",
    "plt.show()\n"
   ]
  },
  {
   "cell_type": "code",
   "execution_count": null,
   "id": "9c4df178",
   "metadata": {},
   "outputs": [],
   "source": [
    "# Apply Gaussian blur (simple box filter)\n",
    "from scipy.ndimage import gaussian_filter\n",
    "\n",
    "blurred = gaussian_filter(image, sigma=3)\n",
    "\n",
    "plt.figure(figsize=(12, 5))\n",
    "plt.subplot(1, 2, 1)\n",
    "plt.imshow(image, cmap='gray')\n",
    "plt.title('Original')\n",
    "plt.colorbar()\n",
    "\n",
    "plt.subplot(1, 2, 2)\n",
    "plt.imshow(blurred, cmap='gray')\n",
    "plt.title('Blurred')\n",
    "plt.colorbar()\n",
    "\n",
    "plt.tight_layout()\n",
    "plt.show()\n"
   ]
  },
  {
   "cell_type": "code",
   "execution_count": null,
   "id": "80c75420",
   "metadata": {},
   "outputs": [],
   "source": [
    "# Edge detection (Sobel filter)\n",
    "from scipy.ndimage import sobel\n",
    "\n",
    "edges_x = sobel(blurred, axis=0)\n",
    "edges_y = sobel(blurred, axis=1)\n",
    "edges = np.hypot(edges_x, edges_y)\n",
    "\n",
    "plt.figure(figsize=(15, 4))\n",
    "plt.subplot(1, 3, 1)\n",
    "plt.imshow(blurred, cmap='gray')\n",
    "plt.title('Blurred Image')\n",
    "plt.colorbar()\n",
    "\n",
    "plt.subplot(1, 3, 2)\n",
    "plt.imshow(edges_x, cmap='gray')\n",
    "plt.title('Horizontal Edges')\n",
    "plt.colorbar()\n",
    "\n",
    "plt.subplot(1, 3, 3)\n",
    "plt.imshow(edges, cmap='gray')\n",
    "plt.title('Edge Magnitude')\n",
    "plt.colorbar()\n",
    "\n",
    "plt.tight_layout()\n",
    "plt.show()\n"
   ]
  },
  {
   "cell_type": "code",
   "execution_count": null,
   "id": "a7daaebc",
   "metadata": {},
   "outputs": [],
   "source": [
    "# Histogram equalization\n",
    "hist, bins = np.histogram(image.flatten(), bins=256, range=[0, 1])\n",
    "cdf = hist.cumsum()\n",
    "cdf_normalized = cdf / cdf[-1]\n",
    "\n",
    "# Use CDF as lookup table\n",
    "image_equalized = np.interp(image.flatten(), bins[:-1], cdf_normalized)\n",
    "image_equalized = image_equalized.reshape(image.shape)\n",
    "\n",
    "plt.figure(figsize=(15, 5))\n",
    "\n",
    "plt.subplot(1, 3, 1)\n",
    "plt.imshow(image, cmap='gray')\n",
    "plt.title('Original')\n",
    "plt.colorbar()\n",
    "\n",
    "plt.subplot(1, 3, 2)\n",
    "plt.hist(image.flatten(), bins=50, alpha=0.7)\n",
    "plt.title('Original Histogram')\n",
    "plt.xlabel('Pixel Value')\n",
    "plt.ylabel('Frequency')\n",
    "\n",
    "plt.subplot(1, 3, 3)\n",
    "plt.imshow(image_equalized, cmap='gray')\n",
    "plt.title('Equalized')\n",
    "plt.colorbar()\n",
    "\n",
    "plt.tight_layout()\n",
    "plt.show()\n"
   ]
  },
  {
   "cell_type": "code",
   "execution_count": null,
   "id": "f97aab20",
   "metadata": {},
   "outputs": [],
   "source": [
    "---\n",
    "# CONGRATULATIONS! 🎉\n",
    "\n",
    "You've completed the comprehensive NumPy course!\n",
    "\n",
    "## What you've learned:\n",
    "- ✅ NumPy fundamentals (arrays, indexing, operations)\n",
    "- ✅ Advanced techniques (broadcasting, vectorization)\n",
    "- ✅ Linear algebra operations\n",
    "- ✅ Integration with Pandas, Matplotlib, SciPy\n",
    "- ✅ Real-world applications\n",
    "\n",
    "## Next steps:\n",
    "1. Practice with Kaggle datasets\n",
    "2. Build your own projects\n",
    "3. Explore specialized libraries:\n",
    "   - Scikit-learn for ML\n",
    "   - TensorFlow/PyTorch for deep learning\n",
    "   - OpenCV for computer vision\n",
    "\n",
    "## Keep practicing! 🚀\n",
    "The best way to master NumPy is to USE it daily.\n"
   ]
  }
 ],
 "metadata": {
  "kernelspec": {
   "display_name": "venv",
   "language": "python",
   "name": "python3"
  },
  "language_info": {
   "codemirror_mode": {
    "name": "ipython",
    "version": 3
   },
   "file_extension": ".py",
   "mimetype": "text/x-python",
   "name": "python",
   "nbconvert_exporter": "python",
   "pygments_lexer": "ipython3",
   "version": "3.13.2"
  }
 },
 "nbformat": 4,
 "nbformat_minor": 5
}
